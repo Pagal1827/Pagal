{
 "cells": [
  {
   "cell_type": "code",
   "execution_count": 2,
   "metadata": {},
   "outputs": [
    {
     "name": "stdout",
     "output_type": "stream",
     "text": [
      "[[35  5]\n",
      " [ 3 48]]\n",
      "false positives:[3 5]\n",
      "\n",
      "false negatives:[5 3]\n",
      "\n",
      "true positives:[35 48]\n",
      "\n",
      "true negatives:[48 35]\n",
      "\n",
      "tnr:[0.94117647 0.875     ]\n",
      "\n",
      "tpr:[0.875      0.94117647]\n",
      "\n",
      "acc: [0.91208791 0.91208791]\n",
      "\n",
      "recall:[0.92105263 0.90566038]\n",
      "\n",
      "precision:[0.875      0.94117647]\n",
      "\n",
      "Fscore: [0.8974359  0.92307692]\n"
     ]
    },
    {
     "name": "stderr",
     "output_type": "stream",
     "text": [
      "C:\\Users\\sonal\\anaconda3\\lib\\site-packages\\sklearn\\linear_model\\_logistic.py:762: ConvergenceWarning: lbfgs failed to converge (status=1):\n",
      "STOP: TOTAL NO. of ITERATIONS REACHED LIMIT.\n",
      "\n",
      "Increase the number of iterations (max_iter) or scale the data as shown in:\n",
      "    https://scikit-learn.org/stable/modules/preprocessing.html\n",
      "Please also refer to the documentation for alternative solver options:\n",
      "    https://scikit-learn.org/stable/modules/linear_model.html#logistic-regression\n",
      "  n_iter_i = _check_optimize_result(\n"
     ]
    }
   ],
   "source": [
    "import numpy as np\n",
    "import pandas as pd\n",
    "import matplotlib.pyplot as plt\n",
    "from sklearn.model_selection import train_test_split\n",
    "\n",
    "from sklearn import metrics\n",
    "from sklearn.metrics import confusion_matrix\n",
    "data = pd.read_csv('heart.csv')\n",
    "x=data.drop('target',axis=1)\n",
    "y=data.target\n",
    "x_train,x_test,y_train,y_test = train_test_split(x,y,test_size=0.3,random_state=109)\n",
    "# Training the Logistic Regression model on the Training set\n",
    "from sklearn.linear_model import LogisticRegression\n",
    "classifier = LogisticRegression(random_state = 0)\n",
    "classifier.fit(x_train, y_train)\n",
    "y_pred=classifier.predict(x_test)\n",
    "cm = confusion_matrix(y_test,y_pred)\n",
    "print(cm)\n",
    "fp=cm.sum(axis=0)-np.diag(cm)\n",
    "fn=cm.sum(axis=1)-np.diag(cm)\n",
    "tp=np.diag(cm)\n",
    "tn=cm.sum()-(fp+fn+tp)\n",
    "print(\"false positives:{}\".format(fp))\n",
    "print(\"\\nfalse negatives:{}\".format(fn))\n",
    "print(\"\\ntrue positives:{}\".format(tp))\n",
    "print(\"\\ntrue negatives:{}\".format(tn))\n",
    "tnr = tn/(tn+fp)\n",
    "print(\"\\ntnr:{}\".format(tnr))\n",
    "tpr = tp/(tp+fn)\n",
    "print(\"\\ntpr:{}\".format(tpr))\n",
    "acc = (tp+tn)/(tp+tn+fp+fn)\n",
    "print(\"\\nacc: {}\".format(acc))\n",
    "recall = (tp/(tp+fp))\n",
    "print(\"\\nrecall:{}\".format(recall))\n",
    "precision = (tp/(tp+fn))\n",
    "print(\"\\nprecision:{}\".format(precision))\n",
    "Fscore = 2*(precision*recall)/(precision+recall)\n",
    "print(\"\\nFscore: {}\".format(Fscore))\n"
   ]
  },
  {
   "cell_type": "code",
   "execution_count": null,
   "metadata": {},
   "outputs": [],
   "source": []
  }
 ],
 "metadata": {
  "kernelspec": {
   "display_name": "Python 3",
   "language": "python",
   "name": "python3"
  },
  "language_info": {
   "codemirror_mode": {
    "name": "ipython",
    "version": 3
   },
   "file_extension": ".py",
   "mimetype": "text/x-python",
   "name": "python",
   "nbconvert_exporter": "python",
   "pygments_lexer": "ipython3",
   "version": "3.8.5"
  }
 },
 "nbformat": 4,
 "nbformat_minor": 4
}
