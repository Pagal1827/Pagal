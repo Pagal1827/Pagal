{
 "cells": [
  {
   "cell_type": "code",
   "execution_count": 44,
   "metadata": {},
   "outputs": [
    {
     "name": "stdout",
     "output_type": "stream",
     "text": [
      "[['sunny' 'warm' 'normal' 'strong' 'warm' 'same']\n",
      " ['sunny' 'warm' 'high' 'strong' 'warm' 'same']\n",
      " ['rainy' 'cold' 'high' 'strong' 'warm' 'change']\n",
      " ['sunny' 'warm' 'high' 'strong' 'cool' 'change']]\n",
      "\n",
      "\n",
      "['sunny' 'warm' 'normal' 'strong' 'warm' 'same']\n",
      "['sunny' 'warm' '?' 'strong' 'warm' 'same']\n",
      "['sunny' 'warm' '?' 'strong' 'warm' 'same']\n",
      "['sunny' 'warm' '?' 'strong' '?' '?']\n"
     ]
    }
   ],
   "source": [
    "import pandas as pd\n",
    "import numpy as np\n",
    "\n",
    "data = pd.read_csv('File.csv')\n",
    "\n",
    "target = np.array(data.Enjoysport)\n",
    "\n",
    "dataFrame = pd.DataFrame(data)\n",
    "\n",
    "concepts = np.array(dataFrame.iloc[:,0:-1])\n",
    "\n",
    "print(concepts)\n",
    "specific = ['?'*len(target)]\n",
    "flag = 0\n",
    "print('\\n')\n",
    "for i , h  in enumerate(concepts):\n",
    "    if target[i] == 'yes':\n",
    "        if flag == 0:\n",
    "            specific = h\n",
    "            flag = 1\n",
    "        else:\n",
    "            for x in range(len(specific)):\n",
    "                if h[x] != specific[x]:\n",
    "                    specific[x] = '?'\n",
    "    print(specific)"
   ]
  }
 ],
 "metadata": {
  "kernelspec": {
   "display_name": "Python 3",
   "language": "python",
   "name": "python3"
  },
  "language_info": {
   "codemirror_mode": {
    "name": "ipython",
    "version": 3
   },
   "file_extension": ".py",
   "mimetype": "text/x-python",
   "name": "python",
   "nbconvert_exporter": "python",
   "pygments_lexer": "ipython3",
   "version": "3.8.5"
  }
 },
 "nbformat": 4,
 "nbformat_minor": 4
}
