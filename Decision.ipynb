{
 "cells": [
  {
   "cell_type": "code",
   "execution_count": 3,
   "metadata": {},
   "outputs": [
    {
     "name": "stdout",
     "output_type": "stream",
     "text": [
      "   5   0   0   0   0   0   0\n",
      "   0   4   0   0   0   0   0\n",
      "   0   1   0   0   1   0   0\n",
      "   0   0   0   3   0   0   0\n",
      "   0   0   0   0   1   0   0\n",
      "   0   0   0   0   0   2   0\n",
      "   0   0   0   0   0   2   1\n",
      "False Positives\n",
      " [0 1 0 0 1 2 0]\n",
      "False Negetives\n",
      " [0 0 2 0 0 0 2]\n",
      "True Positives\n",
      " [5 4 0 3 1 2 1]\n",
      "True Negetives\n",
      " [15 15 18 17 18 16 17]\n",
      "Sensitivity \n",
      " [1.         1.         0.         1.         1.         1.\n",
      " 0.33333333]\n",
      "Specificity \n",
      " [1.         0.9375     1.         1.         0.94736842 0.88888889\n",
      " 1.        ]\n",
      "Precision \n",
      " [1.  0.8 nan 1.  0.5 0.5 1. ]\n",
      "Recall \n",
      " [1.         1.         0.         1.         1.         1.\n",
      " 0.33333333]\n",
      "Áccuracy \n",
      "[1.   0.95 0.9  1.   0.95 0.9  0.9 ]\n",
      "FScore \n",
      "[1.         0.88888889        nan 1.         0.66666667 0.66666667\n",
      " 0.5       ]\n"
     ]
    },
    {
     "name": "stderr",
     "output_type": "stream",
     "text": [
      "<ipython-input-3-69251604ba3e>:60: RuntimeWarning: invalid value encountered in true_divide\n",
      "  Precision = TP/(TP+FP)\n"
     ]
    },
    {
     "data": {
      "image/png": "[encoded data removed]",
      "text/plain": [
       "<Figure size 432x288 with 1 Axes>"
      ]
     },
     "metadata": {
      "needs_background": "light"
     },
     "output_type": "display_data"
    }
   ],
   "source": [
    "from sklearn.tree import DecisionTreeClassifier\n",
    "import pandas as pd\n",
    "import numpy as np\n",
    "from sklearn import metrics\n",
    "from sklearn.metrics import confusion_matrix\n",
    "from sklearn.tree import export_graphviz\n",
    "import graphviz\n",
    "from sklearn import tree\n",
    " \n",
    "###########################################################################################################\n",
    "##########################################################################################################\n",
    "\"\"\"\n",
    "Import the Zoo Dataset\n",
    "\"\"\"\n",
    "#Import the dataset \n",
    "dataset = pd.read_csv('zoo_data.csv')\n",
    "#We drop the animal names since this is not a good feature to split the data on\n",
    "#dataset=dataset.drop('animal_name',axis=1)\n",
    "###########################################################################################################\n",
    "##########################################################################################################\n",
    "\"\"\"\n",
    "Split the data into a training and a testing set\n",
    "\"\"\"\n",
    "train_features = dataset.iloc[:80,:-1]\n",
    "test_features = dataset.iloc[80:,:-1]\n",
    "train_targets = dataset.iloc[:80,-1]\n",
    "test_targets = dataset.iloc[80:,-1]\n",
    "###########################################################################################################\n",
    "##########################################################################################################\n",
    "\"\"\"\n",
    "Train the model\n",
    "\"\"\"\n",
    "tree1 = DecisionTreeClassifier(criterion = 'entropy').fit(train_features,train_targets)\n",
    "export_graphviz(tree1, out_file=\"mytree.dot\")\n",
    "with open(\"mytree.dot\") as f:\n",
    "    dot_graph = f.read()\n",
    "graphviz.Source(dot_graph)\n",
    "tree.plot_tree(tree1)\n",
    "###########################################################################################################\n",
    "##########################################################################################################\n",
    "\"\"\"\n",
    "Predict the classes of new, unseen data\n",
    "\"\"\"\n",
    "prediction = tree1.predict(test_features)\n",
    "cm = confusion_matrix(test_targets, prediction)\n",
    "print('\\n'.join([''.join(['{:4}'.format(item) for item in row]) for row in cm]))\n",
    "#confusionmatrix = np.matrix(cm)\n",
    "FP = cm.sum(axis=0) - np.diag(cm)\n",
    "FN = cm.sum(axis=1) - np.diag(cm)\n",
    "TP = np.diag(cm)\n",
    "TN = cm.sum() - (FP + FN + TP)\n",
    "print('False Positives\\n {}'.format(FP))\n",
    "print('False Negetives\\n {}'.format(FN))\n",
    "print('True Positives\\n {}'.format(TP))\n",
    "print('True Negetives\\n {}'.format(TN))\n",
    "TPR = TP/(TP+FN)\n",
    "print('Sensitivity \\n {}'.format(TPR))\n",
    "TNR = TN/(TN+FP)\n",
    "print('Specificity \\n {}'.format(TNR))\n",
    "Precision = TP/(TP+FP)\n",
    "print('Precision \\n {}'.format(Precision))\n",
    "Recall = TP/(TP+FN)\n",
    "print('Recall \\n {}'.format(Recall))\n",
    "Acc = (TP+TN)/(TP+TN+FP+FN)\n",
    "print('Áccuracy \\n{}'.format(Acc))\n",
    "Fscore = 2*((Precision*Recall)/(Precision+Recall))\n",
    "print('FScore \\n{}'.format(Fscore))\n",
    "###########################################################################################################\n",
    "##########################################################################################################\n"
   ]
  },
  {
   "cell_type": "code",
   "execution_count": null,
   "metadata": {},
   "outputs": [],
   "source": []
  }
 ],
 "metadata": {
  "kernelspec": {
   "display_name": "Python 3",
   "language": "python",
   "name": "python3"
  },
  "language_info": {
   "codemirror_mode": {
    "name": "ipython",
    "version": 3
   },
   "file_extension": ".py",
   "mimetype": "text/x-python",
   "name": "python",
   "nbconvert_exporter": "python",
   "pygments_lexer": "ipython3",
   "version": "3.8.5"
  }
 },
 "nbformat": 4,
 "nbformat_minor": 4
}
